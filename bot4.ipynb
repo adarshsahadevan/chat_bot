{
 "cells": [
  {
   "cell_type": "code",
   "execution_count": 6,
   "metadata": {},
   "outputs": [
    {
     "name": "stderr",
     "output_type": "stream",
     "text": [
      "[nltk_data] Downloading package averaged_perceptron_tagger to\n",
      "[nltk_data]     C:\\Users\\ACER\\AppData\\Roaming\\nltk_data...\n",
      "[nltk_data]   Package averaged_perceptron_tagger is already up-to-\n",
      "[nltk_data]       date!\n",
      "[nltk_data] Downloading package punkt to\n",
      "[nltk_data]     C:\\Users\\ACER\\AppData\\Roaming\\nltk_data...\n",
      "[nltk_data]   Package punkt is already up-to-date!\n",
      "[nltk_data] Downloading package stopwords to\n",
      "[nltk_data]     C:\\Users\\ACER\\AppData\\Roaming\\nltk_data...\n",
      "[nltk_data]   Package stopwords is already up-to-date!\n"
     ]
    }
   ],
   "source": [
    "from chatterbot import ChatBot\n",
    "from chatterbot.trainers import ListTrainer\n",
    "\n",
    "\n",
    "bot = ChatBot('jarvis',logic_adapters=['chatterbot.logic.BestMatch',\n",
    "                                       {'import_path' : 'chatterbot.logic.BestMatch' ,\n",
    "                                        'default_response' : 'I am sorry, but i do not understand',\n",
    "                                        'maximum similarity_threshold':0.90\n",
    "                                        }])"
   ]
  },
  {
   "cell_type": "code",
   "execution_count": 7,
   "metadata": {},
   "outputs": [
    {
     "name": "stdout",
     "output_type": "stream",
     "text": [
      "Package                   VersionNote: you may need to restart the kernel to use updated packages.\n"
     ]
    },
    {
     "name": "stderr",
     "output_type": "stream",
     "text": [
      "\n",
      "[notice] A new release of pip is available: 23.2.1 -> 24.2\n",
      "[notice] To update, run: python.exe -m pip install --upgrade pip\n"
     ]
    },
    {
     "name": "stdout",
     "output_type": "stream",
     "text": [
      "\n",
      "------------------------- ---------------\n",
      "anyio                     4.2.0\n",
      "appdirs                   1.4.4\n",
      "argon2-cffi               23.1.0\n",
      "argon2-cffi-bindings      21.2.0\n",
      "arrow                     1.3.0\n",
      "asttokens                 2.4.1\n",
      "async-lru                 2.0.4\n",
      "attrs                     23.2.0\n",
      "Babel                     2.14.0\n",
      "beautifulsoup4            4.12.3\n",
      "bleach                    6.1.0\n",
      "certifi                   2023.11.17\n",
      "cffi                      1.16.0\n",
      "charset-normalizer        3.3.2\n",
      "ChatterBot                1.0.4\n",
      "chatterbot-corpus         1.2.0\n",
      "click                     8.1.7\n",
      "colorama                  0.4.6\n",
      "comm                      0.2.1\n",
      "contourpy                 1.2.0\n",
      "cycler                    0.12.1\n",
      "debugpy                   1.8.0\n",
      "decorator                 5.1.1\n",
      "defusedxml                0.7.1\n",
      "executing                 2.0.1\n",
      "fastjsonschema            2.19.1\n",
      "flexcache                 0.3\n",
      "flexparser                0.3.1\n",
      "fonttools                 4.47.2\n",
      "fqdn                      1.5.1\n",
      "idna                      3.6\n",
      "ipykernel                 6.29.0\n",
      "ipython                   8.20.0\n",
      "isoduration               20.11.0\n",
      "jedi                      0.19.1\n",
      "Jinja2                    3.1.3\n",
      "joblib                    1.4.2\n",
      "json5                     0.9.14\n",
      "jsonpointer               2.4\n",
      "jsonschema                4.21.1\n",
      "jsonschema-specifications 2023.12.1\n",
      "jupyter_client            8.6.0\n",
      "jupyter_core              5.7.1\n",
      "jupyter-events            0.9.0\n",
      "jupyter-lsp               2.2.2\n",
      "jupyter_server            2.12.5\n",
      "jupyter_server_terminals  0.5.2\n",
      "jupyterlab                4.0.11\n",
      "jupyterlab_pygments       0.3.0\n",
      "jupyterlab_server         2.25.2\n",
      "jupyterthemes             0.20.0\n",
      "kiwisolver                1.4.5\n",
      "lesscpy                   0.15.1\n",
      "MarkupSafe                2.1.4\n",
      "mathparse                 0.1.2\n",
      "matplotlib                3.8.2\n",
      "matplotlib-inline         0.1.6\n",
      "mistune                   3.0.2\n",
      "nbclient                  0.9.0\n",
      "nbconvert                 7.14.2\n",
      "nbformat                  5.9.2\n",
      "nest-asyncio              1.6.0\n",
      "nltk                      3.9.1\n",
      "notebook                  7.0.7\n",
      "notebook_shim             0.2.3\n",
      "numpy                     1.26.3\n",
      "overrides                 7.7.0\n",
      "packaging                 23.2\n",
      "pandocfilters             1.5.1\n",
      "parso                     0.8.3\n",
      "pillow                    10.2.0\n",
      "Pint                      0.24.3\n",
      "pip                       23.2.1\n",
      "platformdirs              4.1.0\n",
      "ply                       3.11\n",
      "prometheus-client         0.19.0\n",
      "prompt-toolkit            3.0.43\n",
      "psutil                    5.9.8\n",
      "pure-eval                 0.2.2\n",
      "pycparser                 2.21\n",
      "Pygments                  2.17.2\n",
      "pymongo                   3.13.0\n",
      "pyparsing                 3.1.1\n",
      "python-dateutil           2.7.5\n",
      "python-json-logger        2.0.7\n",
      "pytz                      2024.2\n",
      "pywin32                   306\n",
      "pywinpty                  2.0.12\n",
      "PyYAML                    3.13\n",
      "pyzmq                     25.1.2\n",
      "referencing               0.32.1\n",
      "regex                     2024.9.11\n",
      "requests                  2.31.0\n",
      "rfc3339-validator         0.1.4\n",
      "rfc3986-validator         0.1.1\n",
      "rpds-py                   0.17.1\n",
      "Send2Trash                1.8.2\n",
      "six                       1.16.0\n",
      "sniffio                   1.3.0\n",
      "soupsieve                 2.5\n",
      "SQLAlchemy                1.2.19\n",
      "stack-data                0.6.3\n",
      "terminado                 0.18.0\n",
      "tinycss2                  1.2.1\n",
      "tornado                   6.4\n",
      "tqdm                      4.66.5\n",
      "traitlets                 5.14.1\n",
      "types-python-dateutil     2.8.19.20240106\n",
      "typing_extensions         4.12.2\n",
      "uri-template              1.3.0\n",
      "urllib3                   2.1.0\n",
      "wcwidth                   0.2.13\n",
      "webcolors                 1.13\n",
      "webencodings              0.5.1\n",
      "websocket-client          1.7.0\n"
     ]
    }
   ],
   "source": [
    "pip list"
   ]
  },
  {
   "cell_type": "code",
   "execution_count": 8,
   "metadata": {},
   "outputs": [],
   "source": [
    "trainer =ListTrainer(bot)"
   ]
  },
  {
   "cell_type": "code",
   "execution_count": 9,
   "metadata": {},
   "outputs": [
    {
     "name": "stdout",
     "output_type": "stream",
     "text": [
      "List Trainer: [####################] 100%\n",
      "List Trainer: [####################] 100%\n",
      "List Trainer: [####################] 100%\n"
     ]
    }
   ],
   "source": [
    "trainer.train([\n",
    "    \"i want to book a movie ticket\",\n",
    "    \"which movie you are looking for ?\",\n",
    "    \"what are the movies playing now\",\n",
    "    \"1.lucifer, 2.bhisma parvam\",\n",
    "    \"Lucifer\",\n",
    "    \"Thats a good movie\",\n",
    "    \"ok i know that\",\n",
    "    \"when are you planning to watch\",\n",
    "    \"tommorow\",\n",
    "    \"ok sir , we have tickets for 3pm tommorow at pvr lulu\",\n",
    "    \"i want 3 tickets\",\n",
    "    \"we have 3 tickets sir\",\n",
    "    \"ok\",\n",
    "    \"what is the payment methods\",\n",
    "    \"what are the payment methods\",\n",
    "    \"upi and debit card\",\n",
    "    \"upi\",\n",
    "    \"you will receive a payment confirmation on gpay, please confirm your payment and reply as done\",\n",
    "    \"Done\",\n",
    "    \"Ok sir we have booked 3 tickets for tommorow 3pm show at pvr lulu, you will receive text message shortly, thank you\"\n",
    "])\n",
    "\n",
    "trainer.train([\n",
    "    \"bhisma parvam\",\n",
    "    \"thats a good movie\"\n",
    "])\n",
    "\n",
    "trainer.train([\n",
    "    \"debit card\",\n",
    "    \"pls provide your debit card number\",\n",
    "    \"0000 0000 0000 0000\",\n",
    "    \"pls provide your cvv\",\n",
    "    \"000\",\n",
    "    \"you will receive an otp to confirm your seat on book my show please verify your payment and reply done\",\n",
    "    \"Done\",\n",
    "    \"Ok sir we have booked 3 tickets for tommorow 3pm show at pvr lulu, you will receive text message shortly, thank you\"\n",
    "])"
   ]
  },
  {
   "cell_type": "code",
   "execution_count": 12,
   "metadata": {},
   "outputs": [
    {
     "name": "stdout",
     "output_type": "stream",
     "text": [
      "you will receive an otp to confirm your seat on book my show please verify your payment and reply done\n"
     ]
    }
   ],
   "source": [
    "rply = bot.get_response('000')\n",
    "print(rply)"
   ]
  },
  {
   "cell_type": "code",
   "execution_count": 14,
   "metadata": {},
   "outputs": [
    {
     "name": "stdout",
     "output_type": "stream",
     "text": [
      "welcome to book my show, how can i help you\n",
      "bot: bye\n"
     ]
    }
   ],
   "source": [
    "name = input(\"enter your name\")\n",
    "print(\"welcome to book my show, how can i help you\")\n",
    "\n",
    "while True:\n",
    "    request = input(name+\":\")\n",
    "\n",
    "    if request == \"bye\":\n",
    "        print('bot:','bye')\n",
    "        break\n",
    "    else:\n",
    "        response = bot.get_response(request)\n",
    "        print('bot:',response)"
   ]
  },
  {
   "cell_type": "code",
   "execution_count": null,
   "metadata": {},
   "outputs": [],
   "source": []
  }
 ],
 "metadata": {
  "kernelspec": {
   "display_name": "Python 3",
   "language": "python",
   "name": "python3"
  },
  "language_info": {
   "codemirror_mode": {
    "name": "ipython",
    "version": 3
   },
   "file_extension": ".py",
   "mimetype": "text/x-python",
   "name": "python",
   "nbconvert_exporter": "python",
   "pygments_lexer": "ipython3",
   "version": "3.12.0"
  }
 },
 "nbformat": 4,
 "nbformat_minor": 2
}
